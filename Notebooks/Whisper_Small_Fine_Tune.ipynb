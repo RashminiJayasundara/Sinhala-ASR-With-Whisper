{
  "nbformat": 4,
  "nbformat_minor": 0,
  "metadata": {
    "colab": {
      "provenance": []
    },
    "kernelspec": {
      "name": "python3",
      "display_name": "Python 3"
    },
    "language_info": {
      "name": "python"
    }
  },
  "cells": [
    {
      "cell_type": "code",
      "execution_count": null,
      "metadata": {
        "id": "WbR8PPiwIb46"
      },
      "outputs": [],
      "source": [
        "from huggingface_hub import notebook_login\n",
        "\n",
        "notebook_login()"
      ]
    },
    {
      "cell_type": "code",
      "source": [
        "!pip install datasets"
      ],
      "metadata": {
        "id": "AMa3qjFtIl0L"
      },
      "execution_count": null,
      "outputs": []
    },
    {
      "cell_type": "code",
      "source": [
        "!pip install jiwer"
      ],
      "metadata": {
        "id": "jUVh2te9Il3X"
      },
      "execution_count": null,
      "outputs": []
    },
    {
      "cell_type": "code",
      "source": [
        "!pip install evaluate"
      ],
      "metadata": {
        "id": "iH5XxuvWIl6O"
      },
      "execution_count": null,
      "outputs": []
    },
    {
      "cell_type": "code",
      "source": [
        "import torch\n",
        "from transformers import WhisperForConditionalGeneration, WhisperProcessor, WhisperFeatureExtractor,WhisperTokenizer,Seq2SeqTrainingArguments,Seq2SeqTrainer\n",
        "from google.colab import drive\n",
        "import os\n",
        "import pandas as pd\n",
        "import csv\n",
        "from datasets import Dataset,load_from_disk\n",
        "import torchaudio\n",
        "from dataclasses import dataclass\n",
        "from typing import Any, Dict, List, Union\n",
        "import numpy as np\n",
        "import evaluate"
      ],
      "metadata": {
        "id": "FMlVI-mxIl9X"
      },
      "execution_count": null,
      "outputs": []
    },
    {
      "cell_type": "code",
      "source": [
        "device = torch.device(\"cuda\")"
      ],
      "metadata": {
        "id": "681xaz98ImAS"
      },
      "execution_count": null,
      "outputs": []
    },
    {
      "cell_type": "code",
      "source": [
        "from google.colab import drive\n",
        "drive.mount('/content/drive')"
      ],
      "metadata": {
        "id": "1ZrWE_k4ImDI"
      },
      "execution_count": null,
      "outputs": []
    },
    {
      "cell_type": "code",
      "source": [
        "data_path = '/content/drive/MyDrive/asr_sinhala'"
      ],
      "metadata": {
        "id": "fjAi5XZfImGJ"
      },
      "execution_count": null,
      "outputs": []
    },
    {
      "cell_type": "code",
      "source": [
        "tsv_file = os.path.join(data_path, 'trainF.tsv')"
      ],
      "metadata": {
        "id": "9cNvXh3mI0gj"
      },
      "execution_count": null,
      "outputs": []
    },
    {
      "cell_type": "code",
      "source": [
        "test_tsv_file = os.path.join(data_path, 'spontaniousTest.tsv')"
      ],
      "metadata": {
        "id": "W13C6LAeI0jx"
      },
      "execution_count": null,
      "outputs": []
    },
    {
      "cell_type": "code",
      "source": [
        "with open(tsv_file, 'r') as file:\n",
        "    reader = csv.reader(file, delimiter='\\t')\n",
        "    df = pd.DataFrame(reader)\n",
        "df.head()"
      ],
      "metadata": {
        "id": "SDgG044lI0mt"
      },
      "execution_count": null,
      "outputs": []
    },
    {
      "cell_type": "code",
      "source": [
        "with open(test_tsv_file, 'r') as file:\n",
        "    reader = csv.reader(file, delimiter='\\t')\n",
        "    df_test = pd.DataFrame(reader)\n",
        "df_test.head()"
      ],
      "metadata": {
        "id": "oaDygS8sI0p4"
      },
      "execution_count": null,
      "outputs": []
    },
    {
      "cell_type": "code",
      "source": [
        "audio_data_path =  '/content/drive/MyDrive/asr_sinhala/audioDataF'"
      ],
      "metadata": {
        "id": "aGYvSXyzI0s0"
      },
      "execution_count": null,
      "outputs": []
    },
    {
      "cell_type": "code",
      "source": [
        "audio_data_path_test =  '/content/drive/MyDrive/asr_sinhala/SponAudio'"
      ],
      "metadata": {
        "id": "KCGv6rXLI0wB"
      },
      "execution_count": null,
      "outputs": []
    },
    {
      "cell_type": "code",
      "source": [
        "data_dict = {\n",
        "    'audio': [os.path.join(audio_data_path, f\"{filename}.flac\") for filename in df[0]],\n",
        "    'text': df[2],\n",
        "    'speaker_id': df[1]\n",
        "}"
      ],
      "metadata": {
        "id": "iNU-OB1OI0zh"
      },
      "execution_count": null,
      "outputs": []
    },
    {
      "cell_type": "code",
      "source": [
        "data_dict_test = {\n",
        "    'audio': [os.path.join(audio_data_path_test, f\"{filename}.flac\") for filename in df_test[0]],\n",
        "    'text': df_test[2],\n",
        "    'speaker_id': df_test[1]  # Speaker ID, if needed for further processing\n",
        "}"
      ],
      "metadata": {
        "id": "WqhtaB0VJFjc"
      },
      "execution_count": null,
      "outputs": []
    },
    {
      "cell_type": "code",
      "source": [
        "dataset = Dataset.from_dict(data_dict)"
      ],
      "metadata": {
        "id": "gWxjKiryJFmU"
      },
      "execution_count": null,
      "outputs": []
    },
    {
      "cell_type": "code",
      "source": [
        "test_dataset=Dataset.from_dict(data_dict_test)"
      ],
      "metadata": {
        "id": "6KuMuTLQJFpK"
      },
      "execution_count": null,
      "outputs": []
    },
    {
      "cell_type": "code",
      "source": [
        "feature_extractor = WhisperFeatureExtractor.from_pretrained(\"openai/whisper-small\")"
      ],
      "metadata": {
        "id": "OjI-mVRUJFsN"
      },
      "execution_count": null,
      "outputs": []
    },
    {
      "cell_type": "code",
      "source": [
        "from transformers import WhisperTokenizer\n",
        "tokenizer = WhisperTokenizer.from_pretrained(\"openai/whisper-small\", language=\"Sinhala\", task=\"transcribe\")"
      ],
      "metadata": {
        "id": "y4zIxbWpJFv2"
      },
      "execution_count": null,
      "outputs": []
    },
    {
      "cell_type": "code",
      "source": [
        "processor = WhisperProcessor.from_pretrained(\"openai/whisper-small\", language=\"Sinhala\", task=\"transcribe\")"
      ],
      "metadata": {
        "id": "GJuGlvlQJR_e"
      },
      "execution_count": null,
      "outputs": []
    },
    {
      "cell_type": "code",
      "source": [
        "def tokenize_transcriptions(examples):\n",
        "    return processor.tokenizer(examples['text'], padding=True, truncation=True)"
      ],
      "metadata": {
        "id": "U7jJwvndJSCq"
      },
      "execution_count": null,
      "outputs": []
    },
    {
      "cell_type": "code",
      "source": [
        "tokenized_dataset = dataset.map(tokenize_transcriptions)"
      ],
      "metadata": {
        "id": "QYf3XbAxJSFn"
      },
      "execution_count": null,
      "outputs": []
    },
    {
      "cell_type": "code",
      "source": [
        "tokenized_testset = test_dataset.map(tokenize_transcriptions)"
      ],
      "metadata": {
        "id": "Ff6GC3bZJSJS"
      },
      "execution_count": null,
      "outputs": []
    },
    {
      "cell_type": "code",
      "source": [
        "def preprocess_data(batch):\n",
        "\n",
        "    audio_path = batch['audio']\n",
        "    waveform, sample_rate = torchaudio.load(audio_path)\n",
        "\n",
        "    input_features = feature_extractor(waveform.squeeze().numpy(), sampling_rate=sample_rate).input_features[0]\n",
        "    labels = tokenizer(batch[\"text\"]).input_ids\n",
        "\n",
        "    return {\"input_features\": input_features, \"labels\": labels}"
      ],
      "metadata": {
        "id": "LaxexoThJSLe"
      },
      "execution_count": null,
      "outputs": []
    },
    {
      "cell_type": "code",
      "source": [
        "processed_dataset = tokenized_dataset.map(preprocess_data, remove_columns=[\"audio\", \"speaker_id\"])"
      ],
      "metadata": {
        "id": "TH8dxCvLJiio"
      },
      "execution_count": null,
      "outputs": []
    },
    {
      "cell_type": "code",
      "source": [
        "save_path = '/content/drive/My Drive/asr_sinhala/ProcessedData/trained_dataset_f'\n",
        "processed_dataset.save_to_disk(save_path)"
      ],
      "metadata": {
        "id": "cFszHFE7Jil3"
      },
      "execution_count": null,
      "outputs": []
    },
    {
      "cell_type": "code",
      "source": [
        "processed_test_dataset = tokenized_testset.map(preprocess_data, remove_columns=[\"audio\"])"
      ],
      "metadata": {
        "id": "o5li0uooJipU"
      },
      "execution_count": null,
      "outputs": []
    },
    {
      "cell_type": "code",
      "source": [
        "save_path_test = '/content/drive/My Drive/asr_sinhala/ProcessedData/test_dataset_s'\n",
        "processed_test_dataset.save_to_disk(save_path_test)"
      ],
      "metadata": {
        "id": "BTVQ_-SMJu-L"
      },
      "execution_count": null,
      "outputs": []
    },
    {
      "cell_type": "code",
      "source": [
        "processed_dataset = load_from_disk(save_path)\n",
        "processed_test_dataset = load_from_disk(save_path_test)"
      ],
      "metadata": {
        "id": "6JKwKGIbJvBv"
      },
      "execution_count": null,
      "outputs": []
    },
    {
      "cell_type": "code",
      "source": [
        "@dataclass\n",
        "class DataCollatorSpeechSeq2SeqWithPadding:\n",
        "    processor: Any\n",
        "    decoder_start_token_id: int\n",
        "\n",
        "    def __call__(self, features: List[Dict[str, Union[List[int], torch.Tensor]]]) -> Dict[str, torch.Tensor]:\n",
        "\n",
        "      input_features = []\n",
        "      for feature in features:\n",
        "          if \"input_features\" not in feature:\n",
        "              print(\"Warning: 'input_features' not found in feature:\", feature)\n",
        "              continue\n",
        "          input_features.append({\"input_features\": feature[\"input_features\"]})\n",
        "\n",
        "      batch = self.processor.feature_extractor.pad(input_features, return_tensors=\"pt\")\n",
        "      label_features = [{\"input_ids\": feature[\"labels\"]} for feature in features if \"labels\" in feature]\n",
        "      if len(label_features) == 0:\n",
        "          raise ValueError(\"No valid 'labels' found in the features.\")\n",
        "\n",
        "      labels_batch = self.processor.tokenizer.pad(label_features, return_tensors=\"pt\")\n",
        "      labels = labels_batch[\"input_ids\"].masked_fill(labels_batch.attention_mask.ne(1), -100)\n",
        "\n",
        "      if labels.size(1) > 0 and (labels[:, 0] == self.decoder_start_token_id).all().cpu().item():\n",
        "          labels = labels[:, 1:]\n",
        "\n",
        "      batch[\"labels\"] = labels\n",
        "\n",
        "      return batch"
      ],
      "metadata": {
        "id": "i2OOi5POJ6Dj"
      },
      "execution_count": null,
      "outputs": []
    },
    {
      "cell_type": "code",
      "source": [
        "model = WhisperForConditionalGeneration.from_pretrained(\"openai/whisper-small\").to(device)"
      ],
      "metadata": {
        "id": "fVI0R_bUJ6G-"
      },
      "execution_count": null,
      "outputs": []
    },
    {
      "cell_type": "code",
      "source": [
        "data_collator = DataCollatorSpeechSeq2SeqWithPadding(\n",
        "    processor=processor,\n",
        "    decoder_start_token_id=model.config.decoder_start_token_id,\n",
        ")"
      ],
      "metadata": {
        "id": "V9Fhqm8FKIXo"
      },
      "execution_count": null,
      "outputs": []
    },
    {
      "cell_type": "code",
      "source": [
        "metric = evaluate.load(\"wer\")"
      ],
      "metadata": {
        "id": "-KS881W8KIaz"
      },
      "execution_count": null,
      "outputs": []
    },
    {
      "cell_type": "code",
      "source": [
        "def compute_metrics(pred):\n",
        "    pred_ids = pred.predictions\n",
        "    label_ids = pred.label_ids\n",
        "\n",
        "    label_ids[label_ids == -100] = tokenizer.pad_token_id\n",
        "\n",
        "    pred_str = tokenizer.batch_decode(pred_ids, skip_special_tokens=True)\n",
        "    label_str = tokenizer.batch_decode(label_ids, skip_special_tokens=True)\n",
        "\n",
        "    wer = 100 * metric.compute(predictions=pred_str, references=label_str)\n",
        "\n",
        "    return {\"wer\": wer}"
      ],
      "metadata": {
        "id": "caOlGESNKId0"
      },
      "execution_count": null,
      "outputs": []
    },
    {
      "cell_type": "code",
      "source": [
        "training_args = Seq2SeqTrainingArguments(\n",
        "    output_dir=\"./whisper-small-specaugment-sinhala\",\n",
        "    logging_steps=100,\n",
        "    report_to=[\"tensorboard\"],\n",
        "    per_device_train_batch_size=16,\n",
        "    gradient_accumulation_steps=8,\n",
        "    learning_rate=1e-5,\n",
        "    lr_scheduler_type=\"linear\",\n",
        "    warmup_steps=500,\n",
        "    num_train_epochs=3,\n",
        "    gradient_checkpointing=True,\n",
        "    fp16=True,\n",
        "    per_device_eval_batch_size=32,\n",
        "    predict_with_generate=True,\n",
        "    metric_for_best_model=\"wer\",\n",
        "    greater_is_better=False,\n",
        "    push_to_hub=True,\n",
        ")"
      ],
      "metadata": {
        "id": "xDCLS7kLKIgm"
      },
      "execution_count": null,
      "outputs": []
    },
    {
      "cell_type": "code",
      "source": [
        "trainer = Seq2SeqTrainer(\n",
        "    args=training_args,\n",
        "    model=model,\n",
        "    train_dataset=processed_dataset,\n",
        "    data_collator=data_collator,\n",
        "    tokenizer=processor.feature_extractor,\n",
        "    compute_metrics=compute_metrics,\n",
        "    eval_dataset=processed_test_dataset,\n",
        ")"
      ],
      "metadata": {
        "id": "OVxf_INJKIjk"
      },
      "execution_count": null,
      "outputs": []
    },
    {
      "cell_type": "code",
      "source": [
        "trainer.train()"
      ],
      "metadata": {
        "id": "sAvuPvhNKInD"
      },
      "execution_count": null,
      "outputs": []
    },
    {
      "cell_type": "code",
      "source": [
        "model.push_to_hub(\"RRashmini/whisper-small-sinhala\")"
      ],
      "metadata": {
        "id": "-2wTXHO6Kj78"
      },
      "execution_count": null,
      "outputs": []
    },
    {
      "cell_type": "code",
      "source": [
        "trainer.evaluate(eval_dataset=processed_test_dataset)"
      ],
      "metadata": {
        "id": "56946gjlKj_k"
      },
      "execution_count": null,
      "outputs": []
    }
  ]
}