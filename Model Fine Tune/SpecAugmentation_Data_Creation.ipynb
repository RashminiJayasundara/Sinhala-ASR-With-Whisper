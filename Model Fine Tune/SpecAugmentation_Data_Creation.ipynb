{
  "nbformat": 4,
  "nbformat_minor": 0,
  "metadata": {
    "colab": {
      "provenance": []
    },
    "kernelspec": {
      "name": "python3",
      "display_name": "Python 3"
    },
    "language_info": {
      "name": "python"
    }
  },
  "cells": [
    {
      "cell_type": "code",
      "execution_count": null,
      "metadata": {
        "id": "FtG7jPHtL_9R"
      },
      "outputs": [],
      "source": [
        "!pip install datasets"
      ]
    },
    {
      "cell_type": "code",
      "source": [
        "from google.colab import drive\n",
        "drive.mount('/content/drive')"
      ],
      "metadata": {
        "id": "Fr8uUU_QMQ9l"
      },
      "execution_count": null,
      "outputs": []
    },
    {
      "cell_type": "code",
      "source": [
        "from datasets import load_from_disk, Dataset\n",
        "save_path = '/content/drive/My Drive/asr_sinhala/ProcessedData/trained_dataset_6'\n",
        "processed_dataset = load_from_disk(save_path)\n"
      ],
      "metadata": {
        "id": "HKvUe2-QMRAf"
      },
      "execution_count": null,
      "outputs": []
    },
    {
      "cell_type": "code",
      "source": [
        "import torch\n",
        "\n",
        "def random_frequency_time_masking(features, num_freq_masks=15, num_time_masks=400):\n",
        "    \"\"\"\n",
        "    Randomly masks `num_freq_masks` frequency bins and `num_time_masks` time frames in a non-contiguous manner.\n",
        "    \"\"\"\n",
        "    B, C, F, T = features.shape  # Batch, Channels, Frequency bins, Time frames\n",
        "\n",
        "    for b in range(B):  # Iterate over each sample in batch\n",
        "        # Mask random frequency bins\n",
        "        freq_mask_indices = torch.randperm(F)[:num_freq_masks]\n",
        "        features[b, :, freq_mask_indices, :] = 0\n",
        "\n",
        "        # Mask random time frames\n",
        "        time_mask_indices = torch.randperm(T)[:num_time_masks]\n",
        "        features[b, :, :, time_mask_indices] = 0\n",
        "\n",
        "    return features\n",
        "\n"
      ],
      "metadata": {
        "id": "XHWYF3qaMREG"
      },
      "execution_count": null,
      "outputs": []
    },
    {
      "cell_type": "code",
      "source": [
        "def augment_spectrogram(example):\n",
        "    \"\"\"\n",
        "    Applies random frequency and time masking to the spectrogram features.\n",
        "    Assumes that 'input_features' contains the spectrogram of shape (freq, time).\n",
        "    \"\"\"\n",
        "    if \"input_features\" in example:\n",
        "        features = torch.tensor(example[\"input_features\"])\n",
        "        if len(features.shape) == 3:\n",
        "            features = features.squeeze(0)\n",
        "\n",
        "        features = features.unsqueeze(0).unsqueeze(0)\n",
        "        augmented_features = random_frequency_time_masking(features)\n",
        "\n",
        "        example[\"input_features\"] = augmented_features.squeeze(0).squeeze(0).numpy().tolist()\n",
        "\n",
        "    return example"
      ],
      "metadata": {
        "id": "sm5GwG46M3dX"
      },
      "execution_count": null,
      "outputs": []
    },
    {
      "cell_type": "code",
      "source": [
        "\n",
        "augmented_dataset = processed_dataset.map(augment_spectrogram)\n",
        "augmented_dataset.save_to_disk('/content/drive/My Drive/specAugmented_trained_dataset_6')"
      ],
      "metadata": {
        "id": "A0dmmWgoNMW9"
      },
      "execution_count": null,
      "outputs": []
    }
  ]
}